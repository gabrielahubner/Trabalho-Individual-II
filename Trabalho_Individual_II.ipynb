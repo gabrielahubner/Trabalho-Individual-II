{
  "nbformat": 4,
  "nbformat_minor": 0,
  "metadata": {
    "colab": {
      "provenance": [],
      "toc_visible": true,
      "authorship_tag": "ABX9TyOzD0LW4gSWlXacvcPN+Igh",
      "include_colab_link": true
    },
    "kernelspec": {
      "name": "python3",
      "display_name": "Python 3"
    },
    "language_info": {
      "name": "python"
    }
  },
  "cells": [
    {
      "cell_type": "markdown",
      "metadata": {
        "id": "view-in-github",
        "colab_type": "text"
      },
      "source": [
        "<a href=\"https://colab.research.google.com/github/gabrielahubner/Trabalho-Individual-II/blob/main/Trabalho_Individual_II.ipynb\" target=\"_parent\"><img src=\"https://colab.research.google.com/assets/colab-badge.svg\" alt=\"Open In Colab\"/></a>"
      ]
    },
    {
      "cell_type": "markdown",
      "source": [
        "# ***Trabalho Individual II***\n",
        "**Aluna:** Gabriela Franco\n",
        "\n",
        "**Repositório:** https://github.com/gabrielahubner/Trabalho-Individual-II"
      ],
      "metadata": {
        "id": "Gw3YG2F8M72C"
      }
    },
    {
      "cell_type": "markdown",
      "source": [
        "## *Dicionário de variáveis*\n",
        "\n"
      ],
      "metadata": {
        "id": "VEauYxHfN9On"
      }
    },
    {
      "cell_type": "markdown",
      "source": [
        "O dicionário das variáveis utilizados para este trabalho pode ser encontrado neste link."
      ],
      "metadata": {
        "id": "yoYPkSv5PVFq"
      }
    }
  ]
}